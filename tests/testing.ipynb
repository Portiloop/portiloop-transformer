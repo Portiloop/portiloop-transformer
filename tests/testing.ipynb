{
 "cells": [
  {
   "cell_type": "code",
   "execution_count": 3,
   "metadata": {},
   "outputs": [],
   "source": [
    "import pyedflib\n",
    "import numpy as np\n"
   ]
  },
  {
   "cell_type": "code",
   "execution_count": 2,
   "metadata": {},
   "outputs": [],
   "source": [
    "PATH = '/project/MASS/SS1_EDF/01-01-0001 Base.edf'\n",
    "PATH_real = '/project/MASS/SS1_EDF/01-01-0001 PSG.edf'"
   ]
  },
  {
   "cell_type": "code",
   "execution_count": 3,
   "metadata": {},
   "outputs": [],
   "source": [
    "edf_lib_annotations =  pyedflib.EdfReader(PATH)\n",
    "edf_lib_real =  pyedflib.EdfReader(PATH_real)\n"
   ]
  },
  {
   "cell_type": "code",
   "execution_count": 4,
   "metadata": {},
   "outputs": [],
   "source": [
    "# Extract the sleep stage annotations\n",
    "annotations = edf_lib_annotations.readAnnotations()\n",
    "# Extract the signal \n",
    "signal = edf_lib_real.readSignal(0)"
   ]
  },
  {
   "cell_type": "code",
   "execution_count": 5,
   "metadata": {},
   "outputs": [],
   "source": [
    "# Get a list of all the different values in array\n",
    "unique_values = np.unique(annotations[2])"
   ]
  },
  {
   "cell_type": "code",
   "execution_count": 8,
   "metadata": {},
   "outputs": [
    {
     "data": {
      "text/plain": [
       "array([9.00000000e+00, 3.90000000e+01, 6.90000000e+01, ...,\n",
       "       3.04590001e+04, 3.04890001e+04, 3.05190001e+04])"
      ]
     },
     "execution_count": 8,
     "metadata": {},
     "output_type": "execute_result"
    }
   ],
   "source": [
    "annotations[0]"
   ]
  },
  {
   "cell_type": "code",
   "execution_count": 6,
   "metadata": {},
   "outputs": [
    {
     "data": {
      "text/plain": [
       "(6,)"
      ]
     },
     "execution_count": 6,
     "metadata": {},
     "output_type": "execute_result"
    }
   ],
   "source": [
    "unique_values.shape"
   ]
  },
  {
   "cell_type": "code",
   "execution_count": 52,
   "metadata": {},
   "outputs": [
    {
     "data": {
      "text/plain": [
       "30554.0"
      ]
     },
     "execution_count": 52,
     "metadata": {},
     "output_type": "execute_result"
    }
   ],
   "source": [
    "signal.size / 256"
   ]
  },
  {
   "cell_type": "code",
   "execution_count": 7,
   "metadata": {},
   "outputs": [
    {
     "data": {
      "text/plain": [
       "array(['Sleep stage 1', 'Sleep stage 2', 'Sleep stage 3', 'Sleep stage ?',\n",
       "       'Sleep stage R', 'Sleep stage W'], dtype='<U13')"
      ]
     },
     "execution_count": 7,
     "metadata": {},
     "output_type": "execute_result"
    }
   ],
   "source": [
    "unique_values"
   ]
  },
  {
   "cell_type": "code",
   "execution_count": 68,
   "metadata": {},
   "outputs": [
    {
     "name": "stdout",
     "output_type": "stream",
     "text": [
      "adding empty labels 9\n",
      "30549\n"
     ]
    }
   ],
   "source": [
    "curr_index = 0\n",
    "labels = []\n",
    "for annotation in np.stack(annotations).T:\n",
    "    onset, duration, label = annotation\n",
    "    # Check if we have some empty space\n",
    "    # print(f\"Before: onset: {onset}, duration: {duration}, label: {label}\")\n",
    "    onset = float(onset)\n",
    "    duration = float(duration)\n",
    "    # print(f\"After: onset: {onset}, duration: {duration}, label: {label}\")\n",
    "\n",
    "    if onset > curr_index:\n",
    "        # print(f\"Empty space between {curr_index} and {onset}\")\n",
    "        # Add empty labels\n",
    "        if int(onset - curr_index) > 0:\n",
    "            print(f\"adding empty labels {int(onset - curr_index)}\")\n",
    "            labels += ['?'] * int(onset - curr_index)\n",
    "    # Add the label\n",
    "    labels += [label.strip('Sleep stage ')] * int(duration)\n",
    "    curr_index = onset + duration\n",
    "\n",
    "print(len(labels))"
   ]
  },
  {
   "cell_type": "code",
   "execution_count": 63,
   "metadata": {},
   "outputs": [
    {
     "data": {
      "text/plain": [
       "(array(['1', '2', '3', '?', 'R', 'W'], dtype='<U1'),\n",
       " array([ 2070, 15000,  3450,  3009,  5220,  1800]))"
      ]
     },
     "execution_count": 63,
     "metadata": {},
     "output_type": "execute_result"
    }
   ],
   "source": [
    "# Count how many labels we have\n",
    "np.unique(np.array(labels), return_counts=True)"
   ]
  },
  {
   "cell_type": "code",
   "execution_count": 73,
   "metadata": {},
   "outputs": [
    {
     "data": {
      "text/plain": [
       "array([[0., 0., 0., ..., 0., 0., 0.],\n",
       "       [0., 0., 0., ..., 0., 0., 0.],\n",
       "       [0., 0., 0., ..., 0., 0., 0.],\n",
       "       ...,\n",
       "       [0., 0., 0., ..., 0., 0., 0.],\n",
       "       [0., 0., 0., ..., 0., 0., 0.],\n",
       "       [0., 0., 0., ..., 0., 0., 0.]])"
      ]
     },
     "execution_count": 73,
     "metadata": {},
     "output_type": "execute_result"
    }
   ],
   "source": [
    "array = np.zeros((180, 30500))\n",
    "# Save array to csv file\n",
    "np.savetxt(\"test.csv\", array, delimiter=\",\")"
   ]
  }
 ],
 "metadata": {
  "kernelspec": {
   "display_name": "venv",
   "language": "python",
   "name": "python3"
  },
  "language_info": {
   "codemirror_mode": {
    "name": "ipython",
    "version": 3
   },
   "file_extension": ".py",
   "mimetype": "text/x-python",
   "name": "python",
   "nbconvert_exporter": "python",
   "pygments_lexer": "ipython3",
   "version": "3.10.6"
  },
  "orig_nbformat": 4,
  "vscode": {
   "interpreter": {
    "hash": "8972bff72674bd0ef304252792741119673fd5884389d4508359670327e8a21f"
   }
  }
 },
 "nbformat": 4,
 "nbformat_minor": 2
}
