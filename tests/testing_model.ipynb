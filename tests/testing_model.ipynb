{
 "cells": [
  {
   "cell_type": "code",
   "execution_count": 1,
   "metadata": {},
   "outputs": [],
   "source": [
    "import torch\n",
    "import torch.nn as nn\n",
    "from einops.layers.torch import Rearrange, Reduce\n",
    "from torch import Tensor\n"
   ]
  },
  {
   "cell_type": "code",
   "execution_count": 2,
   "metadata": {},
   "outputs": [],
   "source": [
    "batch_size = 200\n",
    "seq_len = 30\n",
    "window_size = 250\n",
    "# Get a random batch of EEG data\n",
    "x = torch.rand(batch_size, seq_len, window_size)\n"
   ]
  },
  {
   "cell_type": "code",
   "execution_count": 3,
   "metadata": {},
   "outputs": [],
   "source": [
    "from transformiloop.src.models.transformers import TransformiloopFinetune\n",
    "from transformiloop.src.utils.configs import initialize_config\n",
    "\n",
    "config = initialize_config('Test')\n",
    "finetuner = TransformiloopFinetune(config) "
   ]
  },
  {
   "cell_type": "code",
   "execution_count": 4,
   "metadata": {},
   "outputs": [
    {
     "data": {
      "text/plain": [
       "torch.Size([200, 5])"
      ]
     },
     "execution_count": 4,
     "metadata": {},
     "output_type": "execute_result"
    }
   ],
   "source": [
    "finetuner.cuda()\n",
    "finetuner(x.cuda(), None).shape"
   ]
  },
  {
   "cell_type": "code",
   "execution_count": 5,
   "metadata": {},
   "outputs": [
    {
     "data": {
      "text/plain": [
       "138"
      ]
     },
     "execution_count": 5,
     "metadata": {},
     "output_type": "execute_result"
    }
   ],
   "source": [
    "config['seq_len']"
   ]
  },
  {
   "cell_type": "code",
   "execution_count": 6,
   "metadata": {},
   "outputs": [
    {
     "data": {
      "text/plain": [
       "====================================================================================================\n",
       "Layer (type:depth-idx)                             Output Shape              Param #\n",
       "====================================================================================================\n",
       "TransformiloopFinetune                             [200, 5]                  --\n",
       "├─PatchEmbedding: 1-1                              [200, 138, 64]            --\n",
       "│    └─Flatten: 2-1                                [200, 7500]               --\n",
       "│    └─Sequential: 2-2                             [200, 64, 138]            --\n",
       "│    │    └─Conv1d: 3-1                            [200, 64, 299]            3,264\n",
       "│    │    └─BatchNorm1d: 3-2                       [200, 64, 299]            128\n",
       "│    │    └─ELU: 3-3                               [200, 64, 299]            --\n",
       "│    │    └─AvgPool1d: 3-4                         [200, 64, 138]            --\n",
       "│    │    └─Dropout: 3-5                           [200, 64, 138]            --\n",
       "├─Transformer: 1-2                                 [200, 139, 64]            64\n",
       "│    └─PositionalEncoder: 2-3                      [200, 139, 64]            --\n",
       "│    └─TransformerEncoder: 2-4                     [200, 139, 64]            --\n",
       "│    │    └─ModuleList: 3-6                        --                        --\n",
       "│    │    │    └─TransformerEncoderLayer: 4-1      [200, 139, 64]            99,712\n",
       "│    │    └─LayerNorm: 3-7                         [200, 139, 64]            128\n",
       "├─Sequential: 1-3                                  [200, 5]                  --\n",
       "│    └─Linear: 2-5                                 [200, 64]                 4,160\n",
       "│    └─ReLU: 2-6                                   [200, 64]                 --\n",
       "│    └─Linear: 2-7                                 [200, 5]                  325\n",
       "====================================================================================================\n",
       "Total params: 107,781\n",
       "Trainable params: 107,781\n",
       "Non-trainable params: 0\n",
       "Total mult-adds (M): 216.08\n",
       "====================================================================================================\n",
       "Input size (MB): 6.02\n",
       "Forward/backward pass size (MB): 360.25\n",
       "Params size (MB): 0.43\n",
       "Estimated Total Size (MB): 366.71\n",
       "===================================================================================================="
      ]
     },
     "execution_count": 6,
     "metadata": {},
     "output_type": "execute_result"
    }
   ],
   "source": [
    "from torchinfo import summary\n",
    "summary(\n",
    "        finetuner,\n",
    "        input_size=[\n",
    "            (config['batch_size'], 30, config['window_size']),\n",
    "            (config['batch_size'], 30-1)\n",
    "        ],\n",
    "        dtypes=[torch.float, torch.float, torch.float],\n",
    "        depth=4,\n",
    "    )"
   ]
  }
 ],
 "metadata": {
  "kernelspec": {
   "display_name": "venv",
   "language": "python",
   "name": "python3"
  },
  "language_info": {
   "codemirror_mode": {
    "name": "ipython",
    "version": 3
   },
   "file_extension": ".py",
   "mimetype": "text/x-python",
   "name": "python",
   "nbconvert_exporter": "python",
   "pygments_lexer": "ipython3",
   "version": "3.10.6"
  },
  "orig_nbformat": 4,
  "vscode": {
   "interpreter": {
    "hash": "a93de23a6b76506e6a7bb2d85ce214206fbae6695c5f71a40ac4bd25c503a32c"
   }
  }
 },
 "nbformat": 4,
 "nbformat_minor": 2
}
