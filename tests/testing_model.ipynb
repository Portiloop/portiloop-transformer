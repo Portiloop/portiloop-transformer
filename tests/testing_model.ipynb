{
 "cells": [
  {
   "cell_type": "code",
   "execution_count": 1,
   "metadata": {},
   "outputs": [],
   "source": [
    "import torch\n",
    "import torch.nn as nn\n",
    "from einops.layers.torch import Rearrange, Reduce\n",
    "from torch import Tensor\n"
   ]
  },
  {
   "cell_type": "code",
   "execution_count": 2,
   "metadata": {},
   "outputs": [
    {
     "ename": "KeyError",
     "evalue": "'gru_hidden_size'",
     "output_type": "error",
     "traceback": [
      "\u001b[0;31m---------------------------------------------------------------------------\u001b[0m",
      "\u001b[0;31mKeyError\u001b[0m                                  Traceback (most recent call last)",
      "Cell \u001b[0;32mIn[2], line 5\u001b[0m\n\u001b[1;32m      2\u001b[0m \u001b[39mfrom\u001b[39;00m \u001b[39mtransformiloop\u001b[39;00m\u001b[39m.\u001b[39;00m\u001b[39msrc\u001b[39;00m\u001b[39m.\u001b[39;00m\u001b[39mmodels\u001b[39;00m\u001b[39m.\u001b[39;00m\u001b[39mmodel_blocks\u001b[39;00m \u001b[39mimport\u001b[39;00m GRUClassifier\n\u001b[1;32m      4\u001b[0m config \u001b[39m=\u001b[39m initialize_config(\u001b[39m'\u001b[39m\u001b[39mTest\u001b[39m\u001b[39m'\u001b[39m)\n\u001b[0;32m----> 5\u001b[0m lstm_classifier \u001b[39m=\u001b[39m GRUClassifier(config)\n",
      "File \u001b[0;32m~/portiloop_transformer/transformiloop/src/models/model_blocks.py:606\u001b[0m, in \u001b[0;36mGRUClassifier.__init__\u001b[0;34m(self, config)\u001b[0m\n\u001b[1;32m    602\u001b[0m \u001b[39mself\u001b[39m\u001b[39m.\u001b[39mcnn_layers \u001b[39m=\u001b[39m build_cnn_layers(config)\n\u001b[1;32m    603\u001b[0m     \u001b[39m# Add the GRU LSTM to the sequence to generate the final model\u001b[39;00m\n\u001b[1;32m    604\u001b[0m \u001b[39mself\u001b[39m\u001b[39m.\u001b[39mgru \u001b[39m=\u001b[39m nn\u001b[39m.\u001b[39mGRU(\n\u001b[1;32m    605\u001b[0m     input_size\u001b[39m=\u001b[39mconfig[\u001b[39m'\u001b[39m\u001b[39mcnn_linear_size\u001b[39m\u001b[39m'\u001b[39m],\n\u001b[0;32m--> 606\u001b[0m     hidden_size\u001b[39m=\u001b[39mconfig[\u001b[39m'\u001b[39;49m\u001b[39mgru_hidden_size\u001b[39;49m\u001b[39m'\u001b[39;49m],\n\u001b[1;32m    607\u001b[0m     num_layers\u001b[39m=\u001b[39mconfig[\u001b[39m'\u001b[39m\u001b[39mgru_num_layers\u001b[39m\u001b[39m'\u001b[39m],\n\u001b[1;32m    608\u001b[0m     dropout\u001b[39m=\u001b[39mconfig[\u001b[39m'\u001b[39m\u001b[39mdropout\u001b[39m\u001b[39m'\u001b[39m],\n\u001b[1;32m    609\u001b[0m     batch_first\u001b[39m=\u001b[39m\u001b[39mTrue\u001b[39;00m)\n\u001b[1;32m    611\u001b[0m \u001b[39m# Add the linear layer to the sequence to generate the final model\u001b[39;00m\n\u001b[1;32m    612\u001b[0m \u001b[39mself\u001b[39m\u001b[39m.\u001b[39mclassifier \u001b[39m=\u001b[39m nn\u001b[39m.\u001b[39mLinear(config[\u001b[39m'\u001b[39m\u001b[39mgru_hidden_size\u001b[39m\u001b[39m'\u001b[39m], config[\u001b[39m'\u001b[39m\u001b[39mnum_classes\u001b[39m\u001b[39m'\u001b[39m] \u001b[39mif\u001b[39;00m config[\u001b[39m'\u001b[39m\u001b[39mnum_classes\u001b[39m\u001b[39m'\u001b[39m] \u001b[39m>\u001b[39m \u001b[39m2\u001b[39m \u001b[39melse\u001b[39;00m \u001b[39m1\u001b[39m)\n",
      "\u001b[0;31mKeyError\u001b[0m: 'gru_hidden_size'"
     ]
    }
   ],
   "source": []
  },
  {
   "cell_type": "code",
   "execution_count": 2,
   "metadata": {},
   "outputs": [],
   "source": [
    "batch_size = 200\n",
    "seq_len = 30\n",
    "window_size = 250\n",
    "# Get a random batch of EEG data\n",
    "x = torch.rand(batch_size, seq_len, window_size)\n"
   ]
  },
  {
   "cell_type": "code",
   "execution_count": 3,
   "metadata": {},
   "outputs": [],
   "source": [
    "from transformiloop.src.models.transformers import TransformiloopFinetune\n",
    "from transformiloop.src.utils.configs import initialize_config\n",
    "\n",
    "config = initialize_config('Test')\n",
    "finetuner = TransformiloopFinetune(config) "
   ]
  },
  {
   "cell_type": "code",
   "execution_count": 4,
   "metadata": {},
   "outputs": [
    {
     "data": {
      "text/plain": [
       "torch.Size([200, 5])"
      ]
     },
     "execution_count": 4,
     "metadata": {},
     "output_type": "execute_result"
    }
   ],
   "source": [
    "finetuner.cuda()\n",
    "finetuner(x.cuda(), None).shape"
   ]
  },
  {
   "cell_type": "code",
   "execution_count": 5,
   "metadata": {},
   "outputs": [
    {
     "data": {
      "text/plain": [
       "138"
      ]
     },
     "execution_count": 5,
     "metadata": {},
     "output_type": "execute_result"
    }
   ],
   "source": [
    "config['seq_len']"
   ]
  },
  {
   "cell_type": "code",
   "execution_count": 6,
   "metadata": {},
   "outputs": [
    {
     "data": {
      "text/plain": [
       "====================================================================================================\n",
       "Layer (type:depth-idx)                             Output Shape              Param #\n",
       "====================================================================================================\n",
       "TransformiloopFinetune                             [200, 5]                  --\n",
       "├─PatchEmbedding: 1-1                              [200, 138, 64]            --\n",
       "│    └─Flatten: 2-1                                [200, 7500]               --\n",
       "│    └─Sequential: 2-2                             [200, 64, 138]            --\n",
       "│    │    └─Conv1d: 3-1                            [200, 64, 299]            3,264\n",
       "│    │    └─BatchNorm1d: 3-2                       [200, 64, 299]            128\n",
       "│    │    └─ELU: 3-3                               [200, 64, 299]            --\n",
       "│    │    └─AvgPool1d: 3-4                         [200, 64, 138]            --\n",
       "│    │    └─Dropout: 3-5                           [200, 64, 138]            --\n",
       "├─Transformer: 1-2                                 [200, 139, 64]            64\n",
       "│    └─PositionalEncoder: 2-3                      [200, 139, 64]            --\n",
       "│    └─TransformerEncoder: 2-4                     [200, 139, 64]            --\n",
       "│    │    └─ModuleList: 3-6                        --                        --\n",
       "│    │    │    └─TransformerEncoderLayer: 4-1      [200, 139, 64]            99,712\n",
       "│    │    └─LayerNorm: 3-7                         [200, 139, 64]            128\n",
       "├─Sequential: 1-3                                  [200, 5]                  --\n",
       "│    └─Linear: 2-5                                 [200, 64]                 4,160\n",
       "│    └─ReLU: 2-6                                   [200, 64]                 --\n",
       "│    └─Linear: 2-7                                 [200, 5]                  325\n",
       "====================================================================================================\n",
       "Total params: 107,781\n",
       "Trainable params: 107,781\n",
       "Non-trainable params: 0\n",
       "Total mult-adds (M): 216.08\n",
       "====================================================================================================\n",
       "Input size (MB): 6.02\n",
       "Forward/backward pass size (MB): 360.25\n",
       "Params size (MB): 0.43\n",
       "Estimated Total Size (MB): 366.71\n",
       "===================================================================================================="
      ]
     },
     "execution_count": 6,
     "metadata": {},
     "output_type": "execute_result"
    }
   ],
   "source": [
    "from torchinfo import summary\n",
    "summary(\n",
    "        finetuner,\n",
    "        input_size=[\n",
    "            (config['batch_size'], 30, config['window_size']),\n",
    "            (config['batch_size'], 30-1)\n",
    "        ],\n",
    "        dtypes=[torch.float, torch.float, torch.float],\n",
    "        depth=4,\n",
    "    )"
   ]
  }
 ],
 "metadata": {
  "kernelspec": {
   "display_name": "venv",
   "language": "python",
   "name": "python3"
  },
  "language_info": {
   "codemirror_mode": {
    "name": "ipython",
    "version": 3
   },
   "file_extension": ".py",
   "mimetype": "text/x-python",
   "name": "python",
   "nbconvert_exporter": "python",
   "pygments_lexer": "ipython3",
   "version": "3.10.6"
  },
  "orig_nbformat": 4,
  "vscode": {
   "interpreter": {
    "hash": "a93de23a6b76506e6a7bb2d85ce214206fbae6695c5f71a40ac4bd25c503a32c"
   }
  }
 },
 "nbformat": 4,
 "nbformat_minor": 2
}
